{
 "cells": [
  {
   "cell_type": "markdown",
   "metadata": {},
   "source": [
    "# Lists Examples\n",
    "---"
   ]
  },
  {
   "cell_type": "markdown",
   "metadata": {},
   "source": [
    "Lists (or Arrays) are a fundemental part of most programming languages. In Python, lists are flexible and able to consist of a variety of types"
   ]
  },
  {
   "cell_type": "markdown",
   "metadata": {},
   "source": [
    "### Declaration\n",
    "---"
   ]
  },
  {
   "cell_type": "markdown",
   "metadata": {},
   "source": [
    "You can insert anything you want in the list (strings, integers, bools, etc.) seperated by commas and all within square brackets. To declare a list simply type this:"
   ]
  },
  {
   "cell_type": "code",
   "execution_count": 1,
   "metadata": {},
   "outputs": [],
   "source": [
    "name_of_list = [\"stuff\", 5, True]"
   ]
  },
  {
   "cell_type": "markdown",
   "metadata": {},
   "source": [
    "### Indices\n",
    "---"
   ]
  },
  {
   "cell_type": "markdown",
   "metadata": {},
   "source": [
    "You can get acces to the various elements in a list using indices. An index represents the location of an elements inside a list. The first index is always 0 and increases as you add elements. You can get call the elements of a list by using indices like this:"
   ]
  },
  {
   "cell_type": "code",
   "execution_count": 2,
   "metadata": {},
   "outputs": [
    {
     "name": "stdout",
     "output_type": "stream",
     "text": [
      "5\n",
      "stuff\n",
      "book\n"
     ]
    }
   ],
   "source": [
    "name_of_list = [\"stuff\", 5, True]\n",
    "#Obtain the number 5 from the list name_of_list\n",
    "print(name_of_list[1])\n",
    "#Change the value of \"stuff\" to \"book\" inside the name_of_list list\n",
    "print(name_of_list[0])\n",
    "name_of_list[0] = \"book\"\n",
    "print(name_of_list[0])"
   ]
  },
  {
   "cell_type": "markdown",
   "metadata": {},
   "source": [
    "### List Functions\n",
    "---"
   ]
  },
  {
   "cell_type": "markdown",
   "metadata": {},
   "source": [
    "Some useful methods for lists include:"
   ]
  },
  {
   "cell_type": "code",
   "execution_count": 3,
   "metadata": {},
   "outputs": [
    {
     "name": "stdout",
     "output_type": "stream",
     "text": [
      "3\n",
      "['stuff', 5, True, 6]\n",
      "['stuff', True, 6]\n"
     ]
    }
   ],
   "source": [
    "name_of_list = [\"stuff\", 5, True]\n",
    "#Gives you the length of a list\n",
    "print(len(name_of_list))\n",
    "#Adds an item to a list\n",
    "name_of_list.append(6)\n",
    "print(name_of_list)\n",
    "#Removes the item from a list\n",
    "name_of_list.remove(5)\n",
    "print(name_of_list)\n",
    "#Other methods can be found here: https://www.programiz.com/python-programming/methods/list"
   ]
  },
  {
   "cell_type": "markdown",
   "metadata": {},
   "source": [
    "### 2D Lists\n",
    "---"
   ]
  },
  {
   "cell_type": "markdown",
   "metadata": {},
   "source": [
    "A 2D list is just a list made up of lists. To declare one simply type: "
   ]
  },
  {
   "cell_type": "code",
   "execution_count": 4,
   "metadata": {},
   "outputs": [],
   "source": [
    "list_of_lists = [[1,2,3],['a','b','c'],[True,False]]"
   ]
  },
  {
   "cell_type": "markdown",
   "metadata": {},
   "source": [
    "They work the same as regular lists just with an added bit of complexity. If I want to access the 2 from the 2D list, I would have to first locate the list 2 is in and then locate it's index within the list it is in. So because 2 is in the first list of the 2D list and within that first list it's the 2nd element, to access 2 I would do:"
   ]
  },
  {
   "cell_type": "code",
   "execution_count": 5,
   "metadata": {},
   "outputs": [
    {
     "name": "stdout",
     "output_type": "stream",
     "text": [
      "2\n"
     ]
    }
   ],
   "source": [
    "list_of_lists = [[1,2,3],['a','b','c'],[True,False]]\n",
    "print(list_of_lists[0][1])"
   ]
  }
 ],
 "metadata": {
  "kernelspec": {
   "display_name": "Python 3",
   "language": "python",
   "name": "python3"
  },
  "language_info": {
   "codemirror_mode": {
    "name": "ipython",
    "version": 3
   },
   "file_extension": ".py",
   "mimetype": "text/x-python",
   "name": "python",
   "nbconvert_exporter": "python",
   "pygments_lexer": "ipython3",
   "version": "3.7.0"
  }
 },
 "nbformat": 4,
 "nbformat_minor": 2
}
