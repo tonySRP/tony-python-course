{
 "cells": [
  {
   "cell_type": "markdown",
   "metadata": {},
   "source": [
    "# Inheritance"
   ]
  },
  {
   "cell_type": "markdown",
   "metadata": {},
   "source": [
    "Inheritance is when you use a base class to set up some framework for more complicated classes. You can do this by putting the name of the class you are extending in parentheses next to the class name like so:"
   ]
  },
  {
   "cell_type": "code",
   "execution_count": null,
   "metadata": {},
   "outputs": [],
   "source": [
    "class name_of_base_class:\n",
    "    def __init__(self, A, B):\n",
    "        self.variableA = A\n",
    "        self.variableB = B\n",
    "    def print(self):\n",
    "        print(self.variableA+self.variableB)\n",
    "        \n",
    "class new_class(name_of_base_class):\n",
    "    def __init__(self, B):\n",
    "        self.variableA = \"A, baby\"\n",
    "        self.varibaleB = B\n",
    "    #you don't need to include a function as long as you don't change it"
   ]
  },
  {
   "cell_type": "markdown",
   "metadata": {},
   "source": [
    "You can shorten your code by using the base classes constructor by calling `super().__init__` this calls the constructor of the parent class"
   ]
  },
  {
   "cell_type": "code",
   "execution_count": null,
   "metadata": {},
   "outputs": [],
   "source": [
    "class new_class(name_of_base_class):\n",
    "    def __init__(self, B):\n",
    "        super().__init__(\"A, baby\",B)"
   ]
  }
 ],
 "metadata": {
  "kernelspec": {
   "display_name": "Python 3",
   "language": "python",
   "name": "python3"
  },
  "language_info": {
   "codemirror_mode": {
    "name": "ipython",
    "version": 3
   },
   "file_extension": ".py",
   "mimetype": "text/x-python",
   "name": "python",
   "nbconvert_exporter": "python",
   "pygments_lexer": "ipython3",
   "version": "3.7.0"
  }
 },
 "nbformat": 4,
 "nbformat_minor": 2
}
