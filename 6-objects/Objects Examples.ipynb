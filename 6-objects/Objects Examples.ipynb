{
 "cells": [
  {
   "cell_type": "markdown",
   "metadata": {},
   "source": [
    "# Objects Examples\n",
    "---"
   ]
  },
  {
   "cell_type": "markdown",
   "metadata": {},
   "source": [
    "Object oriented programming is a very common form of programming and consists of objects filled with data. An object can be whatever you want it to be and can contain as many variables as you want of any type you want. To declare an object, you must first create a class, and you do it like this:"
   ]
  },
  {
   "cell_type": "code",
   "execution_count": 1,
   "metadata": {},
   "outputs": [],
   "source": [
    "class name_of_class:\n",
    "    pass"
   ]
  },
  {
   "cell_type": "markdown",
   "metadata": {},
   "source": [
    "### Constructor\n",
    "---"
   ]
  },
  {
   "cell_type": "markdown",
   "metadata": {},
   "source": [
    "Inside the class, you must have what is called a constructor, and this will allow you to set all the variables inside the object. To create the constructor, simply type this inside the class:"
   ]
  },
  {
   "cell_type": "code",
   "execution_count": 2,
   "metadata": {},
   "outputs": [],
   "source": [
    "class name_of_class:\n",
    "    #Constructor\n",
    "    def __init__(self, variableA, variableB):\n",
    "        self.variableA = variableA\n",
    "        self.variableB = variableB"
   ]
  },
  {
   "cell_type": "markdown",
   "metadata": {},
   "source": [
    "### Counter\n",
    "---"
   ]
  },
  {
   "cell_type": "markdown",
   "metadata": {},
   "source": [
    "Another common attribute give to most classes is a counter. This will count the amount of objects you have declared of a class. To add this simply add this into your class:"
   ]
  },
  {
   "cell_type": "code",
   "execution_count": 3,
   "metadata": {},
   "outputs": [],
   "source": [
    "class name_of_class:\n",
    "    #Counter Variable\n",
    "    name_of_counter = 0\n",
    "    def __init__(self, variableA, variableB):\n",
    "        #Make sure to have this so the counter variable increases by one when you create a new instance of the class\n",
    "        name_of_class.name_of_counter+=1\n",
    "        \n",
    "        self.variableA = variableA\n",
    "        self.variableB = variableB"
   ]
  },
  {
   "cell_type": "markdown",
   "metadata": {},
   "source": [
    "### Initialization\n",
    "---"
   ]
  },
  {
   "cell_type": "markdown",
   "metadata": {},
   "source": [
    "To initiate the object simply do:"
   ]
  },
  {
   "cell_type": "code",
   "execution_count": 4,
   "metadata": {},
   "outputs": [],
   "source": [
    "class name_of_class:\n",
    "    name_of_counter = 0\n",
    "    def __init__(self, variableA, variableB):\n",
    "        name_of_class.name_of_counter+=1\n",
    "        \n",
    "        self.variableA = variableA\n",
    "        self.variableB = variableB\n",
    "\n",
    "name_of_object = name_of_class(\"whatever you want to set variableA as\", \"whatever you want to set variableB as\")"
   ]
  },
  {
   "cell_type": "markdown",
   "metadata": {},
   "source": [
    "You can have other functions inside the object that do whatever you want and you can call them by doing this:"
   ]
  },
  {
   "cell_type": "code",
   "execution_count": 5,
   "metadata": {},
   "outputs": [
    {
     "name": "stdout",
     "output_type": "stream",
     "text": [
      "whatever you want this function to return\n"
     ]
    }
   ],
   "source": [
    "class name_of_class:\n",
    "    name_of_counter = 0\n",
    "    def __init__(self, variableA, variableB):\n",
    "        name_of_class.name_of_counter+=1\n",
    "        \n",
    "        self.variableA = variableA\n",
    "        self.variableB = variableB\n",
    "    \n",
    "    #When making a new function, make sure to always have self as a parameter inside the function\n",
    "    def name_of_function(self):\n",
    "        #Insert here whatever you want this function to do\n",
    "        return \"whatever you want this function to return\"\n",
    "\n",
    "name_of_object = name_of_class(\"whatever you want to set variableA as\", \"whatever you want to set variableB as\")\n",
    "\n",
    "#Returns whatever you want the function you called to return\n",
    "print(name_of_object.name_of_function())"
   ]
  }
 ],
 "metadata": {
  "kernelspec": {
   "display_name": "Python 3",
   "language": "python",
   "name": "python3"
  },
  "language_info": {
   "codemirror_mode": {
    "name": "ipython",
    "version": 3
   },
   "file_extension": ".py",
   "mimetype": "text/x-python",
   "name": "python",
   "nbconvert_exporter": "python",
   "pygments_lexer": "ipython3",
   "version": "3.7.0"
  }
 },
 "nbformat": 4,
 "nbformat_minor": 2
}
