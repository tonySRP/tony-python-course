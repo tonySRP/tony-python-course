{
 "cells": [
  {
   "cell_type": "markdown",
   "metadata": {},
   "source": [
    "# Introduction Examples\n",
    "---"
   ]
  },
  {
   "cell_type": "markdown",
   "metadata": {},
   "source": [
    "### Printing\n",
    "---"
   ]
  },
  {
   "cell_type": "markdown",
   "metadata": {},
   "source": [
    "Printing is one of the most useful things you can do in python. It allows you to see the value of anything."
   ]
  },
  {
   "cell_type": "code",
   "execution_count": 1,
   "metadata": {},
   "outputs": [
    {
     "name": "stdout",
     "output_type": "stream",
     "text": [
      "very useful\n"
     ]
    }
   ],
   "source": [
    "print(\"very useful\")"
   ]
  },
  {
   "cell_type": "markdown",
   "metadata": {},
   "source": [
    "### Variables\n",
    "---"
   ]
  },
  {
   "cell_type": "markdown",
   "metadata": {},
   "source": [
    "Variables, like in math, represent a value, however, unlike Algebraic variables Python variables can hold anything."
   ]
  },
  {
   "cell_type": "markdown",
   "metadata": {},
   "source": [
    "This variable represents an Integer."
   ]
  },
  {
   "cell_type": "code",
   "execution_count": 2,
   "metadata": {},
   "outputs": [],
   "source": [
    "exampleInteger = 3"
   ]
  },
  {
   "cell_type": "markdown",
   "metadata": {},
   "source": [
    "This variable represents a String."
   ]
  },
  {
   "cell_type": "code",
   "execution_count": 3,
   "metadata": {},
   "outputs": [],
   "source": [
    "exampleString = \"This is a String\""
   ]
  },
  {
   "cell_type": "markdown",
   "metadata": {},
   "source": [
    "This variable represents a list of things."
   ]
  },
  {
   "cell_type": "code",
   "execution_count": 4,
   "metadata": {},
   "outputs": [],
   "source": [
    "exampleList = [0,1,2,3,4,5]"
   ]
  },
  {
   "cell_type": "markdown",
   "metadata": {},
   "source": [
    "This variable represents a True or False value, or a boolean (bool)."
   ]
  },
  {
   "cell_type": "code",
   "execution_count": 5,
   "metadata": {},
   "outputs": [],
   "source": [
    "exampleBoolean = True"
   ]
  },
  {
   "cell_type": "markdown",
   "metadata": {},
   "source": [
    "Variables can even hold other variables, like this:"
   ]
  },
  {
   "cell_type": "code",
   "execution_count": 6,
   "metadata": {},
   "outputs": [],
   "source": [
    "exampleCopy = exampleString"
   ]
  },
  {
   "cell_type": "code",
   "execution_count": 7,
   "metadata": {},
   "outputs": [
    {
     "name": "stdout",
     "output_type": "stream",
     "text": [
      "3\n",
      "This is a String\n",
      "[0, 1, 2, 3, 4, 5]\n",
      "This is a String\n"
     ]
    }
   ],
   "source": [
    "print(exampleInteger)\n",
    "print(exampleString)\n",
    "print(exampleList)\n",
    "print(exampleCopy)"
   ]
  },
  {
   "cell_type": "markdown",
   "metadata": {},
   "source": [
    "### Functions\n",
    "---"
   ]
  },
  {
   "cell_type": "markdown",
   "metadata": {},
   "source": [
    "Functions take inputs and either do something with it or return a modified verison\n",
    "\n",
    "you use the def statement to define a function\n",
    "\n",
    "this function adds a and b and returns that value"
   ]
  },
  {
   "cell_type": "code",
   "execution_count": 8,
   "metadata": {},
   "outputs": [],
   "source": [
    "def add(a,b):\n",
    "    return a + b"
   ]
  },
  {
   "cell_type": "markdown",
   "metadata": {},
   "source": [
    "you can use a function by calling it's name with parentheses surrounding the inputs"
   ]
  },
  {
   "cell_type": "code",
   "execution_count": 9,
   "metadata": {},
   "outputs": [
    {
     "name": "stdout",
     "output_type": "stream",
     "text": [
      "3\n"
     ]
    }
   ],
   "source": [
    "onePlusTwo = add(1,2)\n",
    "print(onePlusTwo)"
   ]
  },
  {
   "cell_type": "markdown",
   "metadata": {},
   "source": [
    "functions don't have to return anything\n",
    "\n",
    "this function takes a quote and its author and prints it out"
   ]
  },
  {
   "cell_type": "code",
   "execution_count": 10,
   "metadata": {},
   "outputs": [],
   "source": [
    "def printQuote(quote, author):\n",
    "    print(quote,\"\\n\",author)"
   ]
  },
  {
   "cell_type": "markdown",
   "metadata": {},
   "source": [
    "functions can accept anything as an imput, but usually you use variables"
   ]
  },
  {
   "cell_type": "code",
   "execution_count": 11,
   "metadata": {},
   "outputs": [
    {
     "name": "stdout",
     "output_type": "stream",
     "text": [
      "Declan \n",
      " Yeet\n"
     ]
    }
   ],
   "source": [
    "quoteAuthor = \"Declan\"\n",
    "\n",
    "quoteContent = \"Yeet\"\n",
    "\n",
    "printQuote(quoteAuthor,quoteContent)"
   ]
  },
  {
   "cell_type": "markdown",
   "metadata": {},
   "source": [
    "### Test Cases\n",
    "---"
   ]
  },
  {
   "cell_type": "markdown",
   "metadata": {},
   "source": [
    "Test cases are a series of inputs you try to see if the program is funtioning correctly\n",
    "\n",
    "Here are my implimentations of the printTwice and subtraction funtions you wrote last lesson"
   ]
  },
  {
   "cell_type": "code",
   "execution_count": 12,
   "metadata": {},
   "outputs": [
    {
     "name": "stdout",
     "output_type": "stream",
     "text": [
      "word\n",
      "word\n",
      "twice\n",
      "twice\n",
      "123\n",
      "123\n",
      "HELLO!\n",
      "HELLO!\n",
      "0\n",
      "1\n",
      "24\n",
      "102000\n"
     ]
    }
   ],
   "source": [
    "def printTwice(input):\n",
    "    print(input)\n",
    "    print(input)\n",
    "\n",
    "def subtract(a,b):\n",
    "    return a - b\n",
    "\n",
    "#Here we test to see that they are working with a variety of things\n",
    "\n",
    "printTwice(\"word\")\n",
    "printTwice(\"twice\")\n",
    "printTwice(123)\n",
    "printTwice(\"HELLO!\")\n",
    "\n",
    "#while testing functions that take numbers as inputs it is a good idea to use a variety of large, small, 0, and negative numbers to test all the possible inputs\n",
    "print(subtract(0,0))\n",
    "print(subtract(1,0))\n",
    "print(subtract(23,-1))\n",
    "print(subtract(2000,-100000))"
   ]
  }
 ],
 "metadata": {
  "kernelspec": {
   "display_name": "Python 3",
   "language": "python",
   "name": "python3"
  },
  "language_info": {
   "codemirror_mode": {
    "name": "ipython",
    "version": 3
   },
   "file_extension": ".py",
   "mimetype": "text/x-python",
   "name": "python",
   "nbconvert_exporter": "python",
   "pygments_lexer": "ipython3",
   "version": "3.7.0"
  }
 },
 "nbformat": 4,
 "nbformat_minor": 2
}
